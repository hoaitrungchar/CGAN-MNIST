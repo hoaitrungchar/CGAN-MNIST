{
 "cells": [
  {
   "cell_type": "markdown",
   "id": "9f0ffc26",
   "metadata": {
    "papermill": {
     "duration": 0.012981,
     "end_time": "2024-03-17T03:32:34.438654",
     "exception": false,
     "start_time": "2024-03-17T03:32:34.425673",
     "status": "completed"
    },
    "tags": []
   },
   "source": [
    "# CGAN FASHION MNIST"
   ]
  },
  {
   "cell_type": "markdown",
   "id": "82a9fd0b",
   "metadata": {
    "papermill": {
     "duration": 0.012923,
     "end_time": "2024-03-17T03:32:34.464533",
     "exception": false,
     "start_time": "2024-03-17T03:32:34.451610",
     "status": "completed"
    },
    "tags": []
   },
   "source": [
    "## Requirement "
   ]
  },
  {
   "cell_type": "code",
   "execution_count": 1,
   "id": "8f0e6190",
   "metadata": {
    "execution": {
     "iopub.execute_input": "2024-03-17T03:32:34.491631Z",
     "iopub.status.busy": "2024-03-17T03:32:34.490713Z",
     "iopub.status.idle": "2024-03-17T03:32:38.319349Z",
     "shell.execute_reply": "2024-03-17T03:32:38.318000Z"
    },
    "papermill": {
     "duration": 3.844879,
     "end_time": "2024-03-17T03:32:38.321950",
     "exception": false,
     "start_time": "2024-03-17T03:32:34.477071",
     "status": "completed"
    },
    "tags": []
   },
   "outputs": [
    {
     "name": "stdout",
     "output_type": "stream",
     "text": [
      "Note: you may need to restart the kernel to use updated packages.\n"
     ]
    }
   ],
   "source": [
    "pip freeze > requirements.txt"
   ]
  },
  {
   "cell_type": "code",
   "execution_count": 1,
   "id": "ce8bba1f",
   "metadata": {
    "execution": {
     "iopub.execute_input": "2024-03-17T03:32:38.352518Z",
     "iopub.status.busy": "2024-03-17T03:32:38.352111Z",
     "iopub.status.idle": "2024-03-17T03:32:41.279640Z",
     "shell.execute_reply": "2024-03-17T03:32:41.278455Z"
    },
    "papermill": {
     "duration": 2.944209,
     "end_time": "2024-03-17T03:32:41.281754",
     "exception": false,
     "start_time": "2024-03-17T03:32:38.337545",
     "status": "completed"
    },
    "tags": []
   },
   "outputs": [
    {
     "name": "stdout",
     "output_type": "stream",
     "text": [
      "Requirement already satisfied: altgraph==0.17.4 in c:\\users\\thinkpad\\appdata\\local\\programs\\python\\python311\\lib\\site-packages (from -r requirements.txt (line 1)) (0.17.4)\n",
      "Requirement already satisfied: antlr4-python2-runtime==4.13.0 in c:\\users\\thinkpad\\appdata\\local\\programs\\python\\python311\\lib\\site-packages (from -r requirements.txt (line 2)) (4.13.0)\n",
      "Requirement already satisfied: antlr4-python3-runtime==4.9.2 in c:\\users\\thinkpad\\appdata\\local\\programs\\python\\python311\\lib\\site-packages (from -r requirements.txt (line 3)) (4.9.2)\n",
      "Requirement already satisfied: anyio==4.0.0 in c:\\users\\thinkpad\\appdata\\local\\programs\\python\\python311\\lib\\site-packages (from -r requirements.txt (line 4)) (4.0.0)\n",
      "Requirement already satisfied: argon2-cffi==23.1.0 in c:\\users\\thinkpad\\appdata\\local\\programs\\python\\python311\\lib\\site-packages (from -r requirements.txt (line 5)) (23.1.0)\n",
      "Requirement already satisfied: argon2-cffi-bindings==21.2.0 in c:\\users\\thinkpad\\appdata\\local\\programs\\python\\python311\\lib\\site-packages (from -r requirements.txt (line 6)) (21.2.0)\n",
      "Requirement already satisfied: arrow==1.3.0 in c:\\users\\thinkpad\\appdata\\local\\programs\\python\\python311\\lib\\site-packages (from -r requirements.txt (line 7)) (1.3.0)\n",
      "Requirement already satisfied: asttokens==2.4.0 in c:\\users\\thinkpad\\appdata\\roaming\\python\\python311\\site-packages (from -r requirements.txt (line 8)) (2.4.0)\n",
      "Requirement already satisfied: async-lru==2.0.4 in c:\\users\\thinkpad\\appdata\\local\\programs\\python\\python311\\lib\\site-packages (from -r requirements.txt (line 9)) (2.0.4)\n",
      "Requirement already satisfied: attrs==23.1.0 in c:\\users\\thinkpad\\appdata\\local\\programs\\python\\python311\\lib\\site-packages (from -r requirements.txt (line 10)) (23.1.0)\n",
      "Requirement already satisfied: Babel==2.13.1 in c:\\users\\thinkpad\\appdata\\local\\programs\\python\\python311\\lib\\site-packages (from -r requirements.txt (line 11)) (2.13.1)\n",
      "Requirement already satisfied: backcall==0.2.0 in c:\\users\\thinkpad\\appdata\\roaming\\python\\python311\\site-packages (from -r requirements.txt (line 12)) (0.2.0)\n",
      "Requirement already satisfied: beautifulsoup4==4.12.2 in c:\\users\\thinkpad\\appdata\\local\\programs\\python\\python311\\lib\\site-packages (from -r requirements.txt (line 13)) (4.12.2)\n",
      "Requirement already satisfied: bleach==6.1.0 in c:\\users\\thinkpad\\appdata\\local\\programs\\python\\python311\\lib\\site-packages (from -r requirements.txt (line 14)) (6.1.0)\n",
      "Requirement already satisfied: certifi==2023.7.22 in c:\\users\\thinkpad\\appdata\\local\\programs\\python\\python311\\lib\\site-packages (from -r requirements.txt (line 15)) (2023.7.22)\n",
      "Requirement already satisfied: cffi==1.16.0 in c:\\users\\thinkpad\\appdata\\local\\programs\\python\\python311\\lib\\site-packages (from -r requirements.txt (line 16)) (1.16.0)\n",
      "Requirement already satisfied: charset-normalizer==3.3.2 in c:\\users\\thinkpad\\appdata\\local\\programs\\python\\python311\\lib\\site-packages (from -r requirements.txt (line 17)) (3.3.2)\n",
      "Requirement already satisfied: click==8.1.7 in c:\\users\\thinkpad\\appdata\\local\\programs\\python\\python311\\lib\\site-packages (from -r requirements.txt (line 18)) (8.1.7)\n",
      "Requirement already satisfied: cloudpickle==2.2.1 in c:\\users\\thinkpad\\appdata\\local\\programs\\python\\python311\\lib\\site-packages (from -r requirements.txt (line 19)) (2.2.1)\n",
      "Requirement already satisfied: cmake==3.27.7 in c:\\users\\thinkpad\\appdata\\local\\programs\\python\\python311\\lib\\site-packages (from -r requirements.txt (line 20)) (3.27.7)\n",
      "Requirement already satisfied: colorama==0.4.6 in c:\\users\\thinkpad\\appdata\\roaming\\python\\python311\\site-packages (from -r requirements.txt (line 21)) (0.4.6)\n",
      "Requirement already satisfied: comm==0.1.4 in c:\\users\\thinkpad\\appdata\\roaming\\python\\python311\\site-packages (from -r requirements.txt (line 22)) (0.1.4)\n",
      "Requirement already satisfied: contourpy==1.1.1 in c:\\users\\thinkpad\\appdata\\local\\programs\\python\\python311\\lib\\site-packages (from -r requirements.txt (line 23)) (1.1.1)\n",
      "Requirement already satisfied: cramjam==2.7.0 in c:\\users\\thinkpad\\appdata\\local\\programs\\python\\python311\\lib\\site-packages (from -r requirements.txt (line 24)) (2.7.0)\n",
      "Requirement already satisfied: CTkListbox==0.10 in c:\\users\\thinkpad\\appdata\\local\\programs\\python\\python311\\lib\\site-packages (from -r requirements.txt (line 25)) (0.10)\n",
      "Requirement already satisfied: CTkMessagebox==2.5 in c:\\users\\thinkpad\\appdata\\local\\programs\\python\\python311\\lib\\site-packages (from -r requirements.txt (line 26)) (2.5)\n",
      "Requirement already satisfied: customtkinter==5.2.1 in c:\\users\\thinkpad\\appdata\\local\\programs\\python\\python311\\lib\\site-packages (from -r requirements.txt (line 27)) (5.2.1)\n",
      "Requirement already satisfied: cycler==0.12.0 in c:\\users\\thinkpad\\appdata\\local\\programs\\python\\python311\\lib\\site-packages (from -r requirements.txt (line 28)) (0.12.0)\n",
      "Requirement already satisfied: d2l==1.0.3 in c:\\users\\thinkpad\\appdata\\local\\programs\\python\\python311\\lib\\site-packages (from -r requirements.txt (line 29)) (1.0.3)\n",
      "Requirement already satisfied: darkdetect==0.8.0 in c:\\users\\thinkpad\\appdata\\local\\programs\\python\\python311\\lib\\site-packages (from -r requirements.txt (line 30)) (0.8.0)\n",
      "Requirement already satisfied: dask==2023.9.3 in c:\\users\\thinkpad\\appdata\\local\\programs\\python\\python311\\lib\\site-packages (from -r requirements.txt (line 31)) (2023.9.3)\n",
      "Requirement already satisfied: debugpy==1.8.0 in c:\\users\\thinkpad\\appdata\\roaming\\python\\python311\\site-packages (from -r requirements.txt (line 32)) (1.8.0)\n",
      "Requirement already satisfied: decorator==5.1.1 in c:\\users\\thinkpad\\appdata\\roaming\\python\\python311\\site-packages (from -r requirements.txt (line 33)) (5.1.1)\n",
      "Requirement already satisfied: defusedxml==0.7.1 in c:\\users\\thinkpad\\appdata\\local\\programs\\python\\python311\\lib\\site-packages (from -r requirements.txt (line 34)) (0.7.1)\n",
      "Requirement already satisfied: executing==2.0.0 in c:\\users\\thinkpad\\appdata\\roaming\\python\\python311\\site-packages (from -r requirements.txt (line 35)) (2.0.0)\n",
      "Requirement already satisfied: fastjsonschema==2.18.1 in c:\\users\\thinkpad\\appdata\\local\\programs\\python\\python311\\lib\\site-packages (from -r requirements.txt (line 36)) (2.18.1)\n",
      "Requirement already satisfied: fastparquet==2023.8.0 in c:\\users\\thinkpad\\appdata\\local\\programs\\python\\python311\\lib\\site-packages (from -r requirements.txt (line 37)) (2023.8.0)\n",
      "Requirement already satisfied: filelock==3.9.0 in c:\\users\\thinkpad\\appdata\\local\\programs\\python\\python311\\lib\\site-packages (from -r requirements.txt (line 38)) (3.9.0)\n",
      "Requirement already satisfied: fonttools==4.43.0 in c:\\users\\thinkpad\\appdata\\local\\programs\\python\\python311\\lib\\site-packages (from -r requirements.txt (line 39)) (4.43.0)\n",
      "Requirement already satisfied: fqdn==1.5.1 in c:\\users\\thinkpad\\appdata\\local\\programs\\python\\python311\\lib\\site-packages (from -r requirements.txt (line 40)) (1.5.1)\n",
      "Requirement already satisfied: fsspec==2023.9.2 in c:\\users\\thinkpad\\appdata\\local\\programs\\python\\python311\\lib\\site-packages (from -r requirements.txt (line 41)) (2023.9.2)\n",
      "Requirement already satisfied: idna==3.4 in c:\\users\\thinkpad\\appdata\\local\\programs\\python\\python311\\lib\\site-packages (from -r requirements.txt (line 42)) (3.4)\n",
      "Requirement already satisfied: importlib-metadata==6.8.0 in c:\\users\\thinkpad\\appdata\\local\\programs\\python\\python311\\lib\\site-packages (from -r requirements.txt (line 43)) (6.8.0)\n",
      "Requirement already satisfied: ipykernel==6.25.2 in c:\\users\\thinkpad\\appdata\\roaming\\python\\python311\\site-packages (from -r requirements.txt (line 44)) (6.25.2)\n",
      "Requirement already satisfied: ipython==8.16.0 in c:\\users\\thinkpad\\appdata\\roaming\\python\\python311\\site-packages (from -r requirements.txt (line 45)) (8.16.0)\n",
      "Requirement already satisfied: ipywidgets==8.1.1 in c:\\users\\thinkpad\\appdata\\local\\programs\\python\\python311\\lib\\site-packages (from -r requirements.txt (line 46)) (8.1.1)\n",
      "Requirement already satisfied: isoduration==20.11.0 in c:\\users\\thinkpad\\appdata\\local\\programs\\python\\python311\\lib\\site-packages (from -r requirements.txt (line 47)) (20.11.0)\n",
      "Requirement already satisfied: jedi==0.19.0 in c:\\users\\thinkpad\\appdata\\roaming\\python\\python311\\site-packages (from -r requirements.txt (line 48)) (0.19.0)\n",
      "Requirement already satisfied: Jinja2==3.1.2 in c:\\users\\thinkpad\\appdata\\local\\programs\\python\\python311\\lib\\site-packages (from -r requirements.txt (line 49)) (3.1.2)\n",
      "Requirement already satisfied: joblib==1.3.2 in c:\\users\\thinkpad\\appdata\\local\\programs\\python\\python311\\lib\\site-packages (from -r requirements.txt (line 50)) (1.3.2)\n",
      "Requirement already satisfied: json5==0.9.14 in c:\\users\\thinkpad\\appdata\\local\\programs\\python\\python311\\lib\\site-packages (from -r requirements.txt (line 51)) (0.9.14)\n",
      "Requirement already satisfied: jsonpointer==2.4 in c:\\users\\thinkpad\\appdata\\local\\programs\\python\\python311\\lib\\site-packages (from -r requirements.txt (line 52)) (2.4)\n",
      "Requirement already satisfied: jsonschema==4.19.2 in c:\\users\\thinkpad\\appdata\\local\\programs\\python\\python311\\lib\\site-packages (from -r requirements.txt (line 53)) (4.19.2)\n",
      "Requirement already satisfied: jsonschema-specifications==2023.7.1 in c:\\users\\thinkpad\\appdata\\local\\programs\\python\\python311\\lib\\site-packages (from -r requirements.txt (line 54)) (2023.7.1)\n",
      "Requirement already satisfied: jupyter==1.0.0 in c:\\users\\thinkpad\\appdata\\local\\programs\\python\\python311\\lib\\site-packages (from -r requirements.txt (line 55)) (1.0.0)\n",
      "Requirement already satisfied: jupyter-console==6.6.3 in c:\\users\\thinkpad\\appdata\\local\\programs\\python\\python311\\lib\\site-packages (from -r requirements.txt (line 56)) (6.6.3)\n",
      "Requirement already satisfied: jupyter-events==0.9.0 in c:\\users\\thinkpad\\appdata\\local\\programs\\python\\python311\\lib\\site-packages (from -r requirements.txt (line 57)) (0.9.0)\n",
      "Requirement already satisfied: jupyter-lsp==2.2.0 in c:\\users\\thinkpad\\appdata\\local\\programs\\python\\python311\\lib\\site-packages (from -r requirements.txt (line 58)) (2.2.0)\n",
      "Requirement already satisfied: jupyter_client==8.3.1 in c:\\users\\thinkpad\\appdata\\roaming\\python\\python311\\site-packages (from -r requirements.txt (line 59)) (8.3.1)\n",
      "Requirement already satisfied: jupyter_core==5.3.2 in c:\\users\\thinkpad\\appdata\\roaming\\python\\python311\\site-packages (from -r requirements.txt (line 60)) (5.3.2)\n",
      "Requirement already satisfied: jupyter_server==2.10.0 in c:\\users\\thinkpad\\appdata\\local\\programs\\python\\python311\\lib\\site-packages (from -r requirements.txt (line 61)) (2.10.0)\n",
      "Requirement already satisfied: jupyter_server_terminals==0.4.4 in c:\\users\\thinkpad\\appdata\\local\\programs\\python\\python311\\lib\\site-packages (from -r requirements.txt (line 62)) (0.4.4)\n",
      "Requirement already satisfied: jupyterlab==4.0.8 in c:\\users\\thinkpad\\appdata\\local\\programs\\python\\python311\\lib\\site-packages (from -r requirements.txt (line 63)) (4.0.8)\n",
      "Requirement already satisfied: jupyterlab-pygments==0.2.2 in c:\\users\\thinkpad\\appdata\\local\\programs\\python\\python311\\lib\\site-packages (from -r requirements.txt (line 64)) (0.2.2)\n",
      "Requirement already satisfied: jupyterlab-widgets==3.0.9 in c:\\users\\thinkpad\\appdata\\local\\programs\\python\\python311\\lib\\site-packages (from -r requirements.txt (line 65)) (3.0.9)\n",
      "Requirement already satisfied: jupyterlab_server==2.25.0 in c:\\users\\thinkpad\\appdata\\local\\programs\\python\\python311\\lib\\site-packages (from -r requirements.txt (line 66)) (2.25.0)\n",
      "Requirement already satisfied: kiwisolver==1.4.5 in c:\\users\\thinkpad\\appdata\\local\\programs\\python\\python311\\lib\\site-packages (from -r requirements.txt (line 67)) (1.4.5)\n",
      "Requirement already satisfied: locket==1.0.0 in c:\\users\\thinkpad\\appdata\\local\\programs\\python\\python311\\lib\\site-packages (from -r requirements.txt (line 68)) (1.0.0)\n",
      "Requirement already satisfied: MarkupSafe==2.1.3 in c:\\users\\thinkpad\\appdata\\local\\programs\\python\\python311\\lib\\site-packages (from -r requirements.txt (line 69)) (2.1.3)\n",
      "Requirement already satisfied: matplotlib==3.7.2 in c:\\users\\thinkpad\\appdata\\local\\programs\\python\\python311\\lib\\site-packages (from -r requirements.txt (line 70)) (3.7.2)\n",
      "Requirement already satisfied: matplotlib-inline==0.1.6 in c:\\users\\thinkpad\\appdata\\roaming\\python\\python311\\site-packages (from -r requirements.txt (line 71)) (0.1.6)\n",
      "Requirement already satisfied: mistune==3.0.2 in c:\\users\\thinkpad\\appdata\\local\\programs\\python\\python311\\lib\\site-packages (from -r requirements.txt (line 72)) (3.0.2)\n",
      "Requirement already satisfied: mpmath==1.3.0 in c:\\users\\thinkpad\\appdata\\local\\programs\\python\\python311\\lib\\site-packages (from -r requirements.txt (line 73)) (1.3.0)\n",
      "Requirement already satisfied: nbclient==0.8.0 in c:\\users\\thinkpad\\appdata\\local\\programs\\python\\python311\\lib\\site-packages (from -r requirements.txt (line 74)) (0.8.0)\n",
      "Requirement already satisfied: nbconvert==7.11.0 in c:\\users\\thinkpad\\appdata\\local\\programs\\python\\python311\\lib\\site-packages (from -r requirements.txt (line 75)) (7.11.0)\n",
      "Requirement already satisfied: nbformat==5.9.2 in c:\\users\\thinkpad\\appdata\\local\\programs\\python\\python311\\lib\\site-packages (from -r requirements.txt (line 76)) (5.9.2)\n",
      "Requirement already satisfied: nest-asyncio==1.5.8 in c:\\users\\thinkpad\\appdata\\roaming\\python\\python311\\site-packages (from -r requirements.txt (line 77)) (1.5.8)\n",
      "Requirement already satisfied: networkx==3.2.1 in c:\\users\\thinkpad\\appdata\\local\\programs\\python\\python311\\lib\\site-packages (from -r requirements.txt (line 78)) (3.2.1)\n",
      "Requirement already satisfied: notebook==7.0.6 in c:\\users\\thinkpad\\appdata\\local\\programs\\python\\python311\\lib\\site-packages (from -r requirements.txt (line 79)) (7.0.6)\n",
      "Requirement already satisfied: notebook_shim==0.2.3 in c:\\users\\thinkpad\\appdata\\local\\programs\\python\\python311\\lib\\site-packages (from -r requirements.txt (line 80)) (0.2.3)\n",
      "Requirement already satisfied: numpy==1.23.5 in c:\\users\\thinkpad\\appdata\\local\\programs\\python\\python311\\lib\\site-packages (from -r requirements.txt (line 81)) (1.23.5)\n",
      "Requirement already satisfied: overrides==7.4.0 in c:\\users\\thinkpad\\appdata\\local\\programs\\python\\python311\\lib\\site-packages (from -r requirements.txt (line 82)) (7.4.0)\n",
      "Requirement already satisfied: packaging==23.1 in c:\\users\\thinkpad\\appdata\\local\\programs\\python\\python311\\lib\\site-packages (from -r requirements.txt (line 83)) (23.1)\n",
      "Requirement already satisfied: pandas==2.0.3 in c:\\users\\thinkpad\\appdata\\local\\programs\\python\\python311\\lib\\site-packages (from -r requirements.txt (line 84)) (2.0.3)\n",
      "Requirement already satisfied: pandocfilters==1.5.0 in c:\\users\\thinkpad\\appdata\\local\\programs\\python\\python311\\lib\\site-packages (from -r requirements.txt (line 85)) (1.5.0)\n",
      "Requirement already satisfied: parso==0.8.3 in c:\\users\\thinkpad\\appdata\\roaming\\python\\python311\\site-packages (from -r requirements.txt (line 86)) (0.8.3)\n",
      "Requirement already satisfied: partd==1.4.1 in c:\\users\\thinkpad\\appdata\\local\\programs\\python\\python311\\lib\\site-packages (from -r requirements.txt (line 87)) (1.4.1)\n",
      "Requirement already satisfied: pefile==2023.2.7 in c:\\users\\thinkpad\\appdata\\local\\programs\\python\\python311\\lib\\site-packages (from -r requirements.txt (line 88)) (2023.2.7)\n",
      "Requirement already satisfied: pickleshare==0.7.5 in c:\\users\\thinkpad\\appdata\\roaming\\python\\python311\\site-packages (from -r requirements.txt (line 89)) (0.7.5)\n",
      "Requirement already satisfied: Pillow==10.0.1 in c:\\users\\thinkpad\\appdata\\local\\programs\\python\\python311\\lib\\site-packages (from -r requirements.txt (line 90)) (10.0.1)\n",
      "Requirement already satisfied: platformdirs==3.10.0 in c:\\users\\thinkpad\\appdata\\roaming\\python\\python311\\site-packages (from -r requirements.txt (line 91)) (3.10.0)\n",
      "Requirement already satisfied: prometheus-client==0.18.0 in c:\\users\\thinkpad\\appdata\\local\\programs\\python\\python311\\lib\\site-packages (from -r requirements.txt (line 92)) (0.18.0)\n",
      "Requirement already satisfied: prompt-toolkit==3.0.39 in c:\\users\\thinkpad\\appdata\\roaming\\python\\python311\\site-packages (from -r requirements.txt (line 93)) (3.0.39)\n",
      "Requirement already satisfied: psutil==5.9.5 in c:\\users\\thinkpad\\appdata\\roaming\\python\\python311\\site-packages (from -r requirements.txt (line 94)) (5.9.5)\n",
      "Requirement already satisfied: pure-eval==0.2.2 in c:\\users\\thinkpad\\appdata\\roaming\\python\\python311\\site-packages (from -r requirements.txt (line 95)) (0.2.2)\n",
      "Requirement already satisfied: pyarrow==13.0.0 in c:\\users\\thinkpad\\appdata\\local\\programs\\python\\python311\\lib\\site-packages (from -r requirements.txt (line 96)) (13.0.0)\n",
      "Requirement already satisfied: pycparser==2.21 in c:\\users\\thinkpad\\appdata\\local\\programs\\python\\python311\\lib\\site-packages (from -r requirements.txt (line 97)) (2.21)\n",
      "Requirement already satisfied: pygame==2.5.2 in c:\\users\\thinkpad\\appdata\\roaming\\python\\python311\\site-packages (from -r requirements.txt (line 98)) (2.5.2)\n",
      "Requirement already satisfied: Pygments==2.16.1 in c:\\users\\thinkpad\\appdata\\roaming\\python\\python311\\site-packages (from -r requirements.txt (line 99)) (2.16.1)\n",
      "Requirement already satisfied: pyinstaller==6.3.0 in c:\\users\\thinkpad\\appdata\\local\\programs\\python\\python311\\lib\\site-packages (from -r requirements.txt (line 100)) (6.3.0)\n",
      "Requirement already satisfied: pyinstaller-hooks-contrib==2023.10 in c:\\users\\thinkpad\\appdata\\local\\programs\\python\\python311\\lib\\site-packages (from -r requirements.txt (line 101)) (2023.10)\n",
      "Requirement already satisfied: pyparsing==3.0.9 in c:\\users\\thinkpad\\appdata\\local\\programs\\python\\python311\\lib\\site-packages (from -r requirements.txt (line 102)) (3.0.9)\n",
      "Requirement already satisfied: python-dateutil==2.8.2 in c:\\users\\thinkpad\\appdata\\local\\programs\\python\\python311\\lib\\site-packages (from -r requirements.txt (line 103)) (2.8.2)\n",
      "Requirement already satisfied: python-json-logger==2.0.7 in c:\\users\\thinkpad\\appdata\\local\\programs\\python\\python311\\lib\\site-packages (from -r requirements.txt (line 104)) (2.0.7)\n",
      "Requirement already satisfied: pytz==2023.3.post1 in c:\\users\\thinkpad\\appdata\\local\\programs\\python\\python311\\lib\\site-packages (from -r requirements.txt (line 105)) (2023.3.post1)\n",
      "Requirement already satisfied: pywin32==306 in c:\\users\\thinkpad\\appdata\\roaming\\python\\python311\\site-packages (from -r requirements.txt (line 106)) (306)\n",
      "Requirement already satisfied: pywin32-ctypes==0.2.2 in c:\\users\\thinkpad\\appdata\\local\\programs\\python\\python311\\lib\\site-packages (from -r requirements.txt (line 107)) (0.2.2)\n",
      "Requirement already satisfied: pywinpty==2.0.12 in c:\\users\\thinkpad\\appdata\\local\\programs\\python\\python311\\lib\\site-packages (from -r requirements.txt (line 108)) (2.0.12)\n",
      "Requirement already satisfied: PyYAML==6.0.1 in c:\\users\\thinkpad\\appdata\\local\\programs\\python\\python311\\lib\\site-packages (from -r requirements.txt (line 109)) (6.0.1)\n",
      "Requirement already satisfied: pyzmq==25.1.1 in c:\\users\\thinkpad\\appdata\\roaming\\python\\python311\\site-packages (from -r requirements.txt (line 110)) (25.1.1)\n",
      "Requirement already satisfied: qtconsole==5.5.0 in c:\\users\\thinkpad\\appdata\\local\\programs\\python\\python311\\lib\\site-packages (from -r requirements.txt (line 111)) (5.5.0)\n",
      "Requirement already satisfied: QtPy==2.4.1 in c:\\users\\thinkpad\\appdata\\local\\programs\\python\\python311\\lib\\site-packages (from -r requirements.txt (line 112)) (2.4.1)\n",
      "Requirement already satisfied: referencing==0.30.2 in c:\\users\\thinkpad\\appdata\\local\\programs\\python\\python311\\lib\\site-packages (from -r requirements.txt (line 113)) (0.30.2)\n",
      "Requirement already satisfied: requests==2.31.0 in c:\\users\\thinkpad\\appdata\\local\\programs\\python\\python311\\lib\\site-packages (from -r requirements.txt (line 114)) (2.31.0)\n",
      "Requirement already satisfied: rfc3339-validator==0.1.4 in c:\\users\\thinkpad\\appdata\\local\\programs\\python\\python311\\lib\\site-packages (from -r requirements.txt (line 115)) (0.1.4)\n",
      "Requirement already satisfied: rfc3986-validator==0.1.1 in c:\\users\\thinkpad\\appdata\\local\\programs\\python\\python311\\lib\\site-packages (from -r requirements.txt (line 116)) (0.1.1)\n",
      "Requirement already satisfied: rpds-py==0.12.0 in c:\\users\\thinkpad\\appdata\\local\\programs\\python\\python311\\lib\\site-packages (from -r requirements.txt (line 117)) (0.12.0)\n",
      "Requirement already satisfied: scikit-learn==1.3.2 in c:\\users\\thinkpad\\appdata\\local\\programs\\python\\python311\\lib\\site-packages (from -r requirements.txt (line 118)) (1.3.2)\n",
      "Requirement already satisfied: scipy==1.10.1 in c:\\users\\thinkpad\\appdata\\local\\programs\\python\\python311\\lib\\site-packages (from -r requirements.txt (line 119)) (1.10.1)\n",
      "Requirement already satisfied: seaborn==0.13.1 in c:\\users\\thinkpad\\appdata\\local\\programs\\python\\python311\\lib\\site-packages (from -r requirements.txt (line 120)) (0.13.1)\n",
      "Requirement already satisfied: Send2Trash==1.8.2 in c:\\users\\thinkpad\\appdata\\local\\programs\\python\\python311\\lib\\site-packages (from -r requirements.txt (line 121)) (1.8.2)\n",
      "Requirement already satisfied: six==1.16.0 in c:\\users\\thinkpad\\appdata\\local\\programs\\python\\python311\\lib\\site-packages (from -r requirements.txt (line 122)) (1.16.0)\n",
      "Requirement already satisfied: sniffio==1.3.0 in c:\\users\\thinkpad\\appdata\\local\\programs\\python\\python311\\lib\\site-packages (from -r requirements.txt (line 123)) (1.3.0)\n",
      "Requirement already satisfied: soupsieve==2.5 in c:\\users\\thinkpad\\appdata\\local\\programs\\python\\python311\\lib\\site-packages (from -r requirements.txt (line 124)) (2.5)\n",
      "Requirement already satisfied: stack-data==0.6.3 in c:\\users\\thinkpad\\appdata\\roaming\\python\\python311\\site-packages (from -r requirements.txt (line 125)) (0.6.3)\n",
      "Requirement already satisfied: sympy==1.12 in c:\\users\\thinkpad\\appdata\\local\\programs\\python\\python311\\lib\\site-packages (from -r requirements.txt (line 126)) (1.12)\n",
      "Requirement already satisfied: terminado==0.17.1 in c:\\users\\thinkpad\\appdata\\local\\programs\\python\\python311\\lib\\site-packages (from -r requirements.txt (line 127)) (0.17.1)\n",
      "Requirement already satisfied: threadpoolctl==3.2.0 in c:\\users\\thinkpad\\appdata\\local\\programs\\python\\python311\\lib\\site-packages (from -r requirements.txt (line 128)) (3.2.0)\n",
      "Requirement already satisfied: tinycss2==1.2.1 in c:\\users\\thinkpad\\appdata\\local\\programs\\python\\python311\\lib\\site-packages (from -r requirements.txt (line 129)) (1.2.1)\n",
      "Requirement already satisfied: toolz==0.12.0 in c:\\users\\thinkpad\\appdata\\local\\programs\\python\\python311\\lib\\site-packages (from -r requirements.txt (line 130)) (0.12.0)\n",
      "Requirement already satisfied: torch==2.2.1+cu118 in c:\\users\\thinkpad\\appdata\\local\\programs\\python\\python311\\lib\\site-packages (from -r requirements.txt (line 131)) (2.2.1+cu118)\n",
      "Requirement already satisfied: torchaudio==2.2.1+cu118 in c:\\users\\thinkpad\\appdata\\local\\programs\\python\\python311\\lib\\site-packages (from -r requirements.txt (line 132)) (2.2.1+cu118)\n",
      "Requirement already satisfied: torchsummary==1.5.1 in c:\\users\\thinkpad\\appdata\\local\\programs\\python\\python311\\lib\\site-packages (from -r requirements.txt (line 133)) (1.5.1)\n",
      "Requirement already satisfied: torchvision==0.17.1+cu118 in c:\\users\\thinkpad\\appdata\\local\\programs\\python\\python311\\lib\\site-packages (from -r requirements.txt (line 134)) (0.17.1+cu118)\n",
      "Requirement already satisfied: tornado==6.3.3 in c:\\users\\thinkpad\\appdata\\roaming\\python\\python311\\site-packages (from -r requirements.txt (line 135)) (6.3.3)\n",
      "Requirement already satisfied: traitlets==5.10.1 in c:\\users\\thinkpad\\appdata\\roaming\\python\\python311\\site-packages (from -r requirements.txt (line 136)) (5.10.1)\n",
      "Requirement already satisfied: types-python-dateutil==2.8.19.14 in c:\\users\\thinkpad\\appdata\\local\\programs\\python\\python311\\lib\\site-packages (from -r requirements.txt (line 137)) (2.8.19.14)\n",
      "Requirement already satisfied: typing_extensions==4.8.0 in c:\\users\\thinkpad\\appdata\\local\\programs\\python\\python311\\lib\\site-packages (from -r requirements.txt (line 138)) (4.8.0)\n",
      "Requirement already satisfied: tzdata==2023.3 in c:\\users\\thinkpad\\appdata\\local\\programs\\python\\python311\\lib\\site-packages (from -r requirements.txt (line 139)) (2023.3)\n",
      "Requirement already satisfied: uri-template==1.3.0 in c:\\users\\thinkpad\\appdata\\local\\programs\\python\\python311\\lib\\site-packages (from -r requirements.txt (line 140)) (1.3.0)\n",
      "Requirement already satisfied: urllib3==2.0.7 in c:\\users\\thinkpad\\appdata\\local\\programs\\python\\python311\\lib\\site-packages (from -r requirements.txt (line 141)) (2.0.7)\n",
      "Requirement already satisfied: wcwidth==0.2.8 in c:\\users\\thinkpad\\appdata\\roaming\\python\\python311\\site-packages (from -r requirements.txt (line 142)) (0.2.8)\n",
      "Requirement already satisfied: webcolors==1.13 in c:\\users\\thinkpad\\appdata\\local\\programs\\python\\python311\\lib\\site-packages (from -r requirements.txt (line 143)) (1.13)\n",
      "Requirement already satisfied: webencodings==0.5.1 in c:\\users\\thinkpad\\appdata\\local\\programs\\python\\python311\\lib\\site-packages (from -r requirements.txt (line 144)) (0.5.1)\n",
      "Requirement already satisfied: websocket-client==1.6.4 in c:\\users\\thinkpad\\appdata\\local\\programs\\python\\python311\\lib\\site-packages (from -r requirements.txt (line 145)) (1.6.4)\n",
      "Requirement already satisfied: widgetsnbextension==4.0.9 in c:\\users\\thinkpad\\appdata\\local\\programs\\python\\python311\\lib\\site-packages (from -r requirements.txt (line 146)) (4.0.9)\n",
      "Requirement already satisfied: zipp==3.17.0 in c:\\users\\thinkpad\\appdata\\local\\programs\\python\\python311\\lib\\site-packages (from -r requirements.txt (line 147)) (3.17.0)\n",
      "Requirement already satisfied: setuptools>=42.0.0 in c:\\users\\thinkpad\\appdata\\local\\programs\\python\\python311\\lib\\site-packages (from pyinstaller==6.3.0->-r requirements.txt (line 100)) (68.2.2)\n",
      "Note: you may need to restart the kernel to use updated packages.\n"
     ]
    }
   ],
   "source": [
    "pip install -r requirements.txt"
   ]
  },
  {
   "cell_type": "markdown",
   "id": "ed06a585",
   "metadata": {
    "papermill": {
     "duration": 0.01326,
     "end_time": "2024-03-17T03:32:41.307666",
     "exception": false,
     "start_time": "2024-03-17T03:32:41.294406",
     "status": "completed"
    },
    "tags": []
   },
   "source": [
    "## Import"
   ]
  },
  {
   "cell_type": "code",
   "execution_count": 1,
   "id": "765e7bd0",
   "metadata": {
    "execution": {
     "iopub.execute_input": "2024-03-17T03:32:41.334276Z",
     "iopub.status.busy": "2024-03-17T03:32:41.333366Z",
     "iopub.status.idle": "2024-03-17T03:32:48.650676Z",
     "shell.execute_reply": "2024-03-17T03:32:48.649826Z"
    },
    "papermill": {
     "duration": 7.333036,
     "end_time": "2024-03-17T03:32:48.653008",
     "exception": false,
     "start_time": "2024-03-17T03:32:41.319972",
     "status": "completed"
    },
    "tags": []
   },
   "outputs": [],
   "source": [
    "import torch\n",
    "from torchvision.datasets import MNIST, FashionMNIST\n",
    "import random\n",
    "import torch\n",
    "import torch.nn as nn\n",
    "import os\n",
    "from torchvision import transforms\n",
    "from torch.utils.data import DataLoader\n",
    "from torch.autograd import Variable\n",
    "from torchvision import models\n",
    "import numpy as np\n",
    "import matplotlib.pyplot as plt"
   ]
  },
  {
   "cell_type": "markdown",
   "id": "d73aff4a",
   "metadata": {
    "papermill": {
     "duration": 0.01243,
     "end_time": "2024-03-17T03:32:48.678701",
     "exception": false,
     "start_time": "2024-03-17T03:32:48.666271",
     "status": "completed"
    },
    "tags": []
   },
   "source": [
    "## Dataset"
   ]
  },
  {
   "cell_type": "code",
   "execution_count": 50,
   "id": "5d46a453",
   "metadata": {
    "execution": {
     "iopub.execute_input": "2024-03-17T03:32:48.706790Z",
     "iopub.status.busy": "2024-03-17T03:32:48.706331Z",
     "iopub.status.idle": "2024-03-17T03:32:53.898038Z",
     "shell.execute_reply": "2024-03-17T03:32:53.896843Z"
    },
    "papermill": {
     "duration": 5.208839,
     "end_time": "2024-03-17T03:32:53.900728",
     "exception": false,
     "start_time": "2024-03-17T03:32:48.691889",
     "status": "completed"
    },
    "tags": []
   },
   "outputs": [],
   "source": [
    "train_dataset = FashionMNIST(root='./Input/',train=True,download=True)"
   ]
  },
  {
   "cell_type": "markdown",
   "id": "f2cd8b0f",
   "metadata": {
    "papermill": {
     "duration": 0.016062,
     "end_time": "2024-03-17T03:32:53.934306",
     "exception": false,
     "start_time": "2024-03-17T03:32:53.918244",
     "status": "completed"
    },
    "tags": []
   },
   "source": [
    "### Analyze"
   ]
  },
  {
   "cell_type": "code",
   "execution_count": 51,
   "id": "eecea19a",
   "metadata": {
    "execution": {
     "iopub.execute_input": "2024-03-17T03:32:53.968404Z",
     "iopub.status.busy": "2024-03-17T03:32:53.968084Z",
     "iopub.status.idle": "2024-03-17T03:32:53.975106Z",
     "shell.execute_reply": "2024-03-17T03:32:53.973657Z"
    },
    "papermill": {
     "duration": 0.026645,
     "end_time": "2024-03-17T03:32:53.977252",
     "exception": false,
     "start_time": "2024-03-17T03:32:53.950607",
     "status": "completed"
    },
    "tags": []
   },
   "outputs": [
    {
     "data": {
      "text/plain": [
       "Dataset FashionMNIST\n",
       "    Number of datapoints: 60000\n",
       "    Root location: ./Input/\n",
       "    Split: Train"
      ]
     },
     "execution_count": 51,
     "metadata": {},
     "output_type": "execute_result"
    }
   ],
   "source": [
    "train_dataset"
   ]
  },
  {
   "cell_type": "code",
   "execution_count": 67,
   "id": "4e83faa3",
   "metadata": {
    "execution": {
     "iopub.execute_input": "2024-03-17T03:32:54.011425Z",
     "iopub.status.busy": "2024-03-17T03:32:54.011131Z",
     "iopub.status.idle": "2024-03-17T03:32:54.016887Z",
     "shell.execute_reply": "2024-03-17T03:32:54.016029Z"
    },
    "papermill": {
     "duration": 0.025262,
     "end_time": "2024-03-17T03:32:54.018911",
     "exception": false,
     "start_time": "2024-03-17T03:32:53.993649",
     "status": "completed"
    },
    "tags": []
   },
   "outputs": [
    {
     "data": {
      "text/plain": [
       "['T-shirt/top',\n",
       " 'Trouser',\n",
       " 'Pullover',\n",
       " 'Dress',\n",
       " 'Coat',\n",
       " 'Sandal',\n",
       " 'Shirt',\n",
       " 'Sneaker',\n",
       " 'Bag',\n",
       " 'Ankle boot']"
      ]
     },
     "execution_count": 67,
     "metadata": {},
     "output_type": "execute_result"
    }
   ],
   "source": [
    "# classes\n",
    "class_names = train_dataset.classes\n",
    "class_names"
   ]
  },
  {
   "cell_type": "code",
   "execution_count": 68,
   "id": "1fffa41a",
   "metadata": {
    "execution": {
     "iopub.execute_input": "2024-03-17T03:32:54.052169Z",
     "iopub.status.busy": "2024-03-17T03:32:54.051908Z",
     "iopub.status.idle": "2024-03-17T03:32:54.070315Z",
     "shell.execute_reply": "2024-03-17T03:32:54.069536Z"
    },
    "papermill": {
     "duration": 0.037234,
     "end_time": "2024-03-17T03:32:54.072239",
     "exception": false,
     "start_time": "2024-03-17T03:32:54.035005",
     "status": "completed"
    },
    "tags": []
   },
   "outputs": [
    {
     "data": {
      "text/plain": [
       "(<PIL.Image.Image image mode=L size=28x28>, 8)"
      ]
     },
     "execution_count": 68,
     "metadata": {},
     "output_type": "execute_result"
    }
   ],
   "source": [
    "# sample\n",
    "img, label = train_dataset[35]\n",
    "img, label"
   ]
  },
  {
   "cell_type": "markdown",
   "id": "be75e614",
   "metadata": {
    "papermill": {
     "duration": 0.015803,
     "end_time": "2024-03-17T03:32:54.104438",
     "exception": false,
     "start_time": "2024-03-17T03:32:54.088635",
     "status": "completed"
    },
    "tags": []
   },
   "source": [
    "### Visualize"
   ]
  },
  {
   "cell_type": "code",
   "execution_count": 79,
   "id": "fafb8632",
   "metadata": {
    "execution": {
     "iopub.execute_input": "2024-03-17T03:32:54.137436Z",
     "iopub.status.busy": "2024-03-17T03:32:54.137156Z",
     "iopub.status.idle": "2024-03-17T03:32:54.465066Z",
     "shell.execute_reply": "2024-03-17T03:32:54.464112Z"
    },
    "papermill": {
     "duration": 0.346825,
     "end_time": "2024-03-17T03:32:54.467269",
     "exception": false,
     "start_time": "2024-03-17T03:32:54.120444",
     "status": "completed"
    },
    "tags": []
   },
   "outputs": [
    {
     "data": {
      "image/png": "[encoded data removed]",
      "text/plain": [
       "<Figure size 1600x1600 with 10 Axes>"
      ]
     },
     "metadata": {},
     "output_type": "display_data"
    }
   ],
   "source": [
    "# single sample\n",
    "f=plt.figure(figsize=(16,16))\n",
    "set={-1}\n",
    "i=0\n",
    "for x in range(0,25):\n",
    "    \n",
    "    img, label=train_dataset[x+1]\n",
    "    if label not in set:\n",
    "        f.add_subplot(1, 10, i+ 1)\n",
    "        i+=1\n",
    "        plt.imshow(img, cmap='gray')\n",
    "        plt.title(f\"{class_names[label]}\")\n",
    "        set.add(label)\n",
    "plt.show()\n",
    "# plt.imshow(img, cmap='gray')\n"
   ]
  },
  {
   "cell_type": "markdown",
   "id": "0a41b8a0",
   "metadata": {
    "papermill": {
     "duration": 0.016184,
     "end_time": "2024-03-17T03:32:54.500046",
     "exception": false,
     "start_time": "2024-03-17T03:32:54.483862",
     "status": "completed"
    },
    "tags": []
   },
   "source": [
    "### Transform"
   ]
  },
  {
   "cell_type": "code",
   "execution_count": 4,
   "id": "943708cc",
   "metadata": {
    "execution": {
     "iopub.execute_input": "2024-03-17T03:32:54.533971Z",
     "iopub.status.busy": "2024-03-17T03:32:54.533676Z",
     "iopub.status.idle": "2024-03-17T03:32:54.539927Z",
     "shell.execute_reply": "2024-03-17T03:32:54.539107Z"
    },
    "papermill": {
     "duration": 0.025631,
     "end_time": "2024-03-17T03:32:54.541891",
     "exception": false,
     "start_time": "2024-03-17T03:32:54.516260",
     "status": "completed"
    },
    "tags": []
   },
   "outputs": [
    {
     "data": {
      "text/plain": [
       "Compose(\n",
       "    ToTensor()\n",
       "    Normalize(mean=[0.5], std=[0.5])\n",
       ")"
      ]
     },
     "execution_count": 4,
     "metadata": {},
     "output_type": "execute_result"
    }
   ],
   "source": [
    "transforms_mnist = transforms.Compose([transforms.ToTensor(),transforms.Normalize([0.5], [0.5])])\n",
    "transforms_mnist"
   ]
  },
  {
   "cell_type": "code",
   "execution_count": 5,
   "id": "39295f3f",
   "metadata": {
    "execution": {
     "iopub.execute_input": "2024-03-17T03:32:54.576246Z",
     "iopub.status.busy": "2024-03-17T03:32:54.576007Z",
     "iopub.status.idle": "2024-03-17T03:32:59.740882Z",
     "shell.execute_reply": "2024-03-17T03:32:59.739839Z"
    },
    "papermill": {
     "duration": 5.184522,
     "end_time": "2024-03-17T03:32:59.743094",
     "exception": false,
     "start_time": "2024-03-17T03:32:54.558572",
     "status": "completed"
    },
    "tags": []
   },
   "outputs": [],
   "source": [
    "train_dataset = FashionMNIST(root='./input/',train=True, download=True,transform=transforms_mnist)"
   ]
  },
  {
   "cell_type": "markdown",
   "id": "17574dfd",
   "metadata": {
    "papermill": {
     "duration": 0.020369,
     "end_time": "2024-03-17T03:32:59.785564",
     "exception": false,
     "start_time": "2024-03-17T03:32:59.765195",
     "status": "completed"
    },
    "tags": []
   },
   "source": [
    "### Input information"
   ]
  },
  {
   "cell_type": "code",
   "execution_count": 7,
   "id": "7f925a5a",
   "metadata": {
    "execution": {
     "iopub.execute_input": "2024-03-17T03:32:59.826819Z",
     "iopub.status.busy": "2024-03-17T03:32:59.826517Z",
     "iopub.status.idle": "2024-03-17T03:32:59.830926Z",
     "shell.execute_reply": "2024-03-17T03:32:59.830036Z"
    },
    "papermill": {
     "duration": 0.027296,
     "end_time": "2024-03-17T03:32:59.832971",
     "exception": false,
     "start_time": "2024-03-17T03:32:59.805675",
     "status": "completed"
    },
    "tags": []
   },
   "outputs": [],
   "source": [
    "img_dim = 100\n",
    "BATCH_SIZE = 32\n",
    "Image_size=28*28\n",
    "class_label_size=10"
   ]
  },
  {
   "cell_type": "markdown",
   "id": "5802ea2e",
   "metadata": {
    "papermill": {
     "duration": 0.019862,
     "end_time": "2024-03-17T03:32:59.872836",
     "exception": false,
     "start_time": "2024-03-17T03:32:59.852974",
     "status": "completed"
    },
    "tags": []
   },
   "source": [
    "### Dataloaders"
   ]
  },
  {
   "cell_type": "code",
   "execution_count": 40,
   "id": "8fd382cd",
   "metadata": {
    "execution": {
     "iopub.execute_input": "2024-03-17T03:32:59.914289Z",
     "iopub.status.busy": "2024-03-17T03:32:59.913808Z",
     "iopub.status.idle": "2024-03-17T03:32:59.919804Z",
     "shell.execute_reply": "2024-03-17T03:32:59.918918Z"
    },
    "papermill": {
     "duration": 0.02866,
     "end_time": "2024-03-17T03:32:59.921670",
     "exception": false,
     "start_time": "2024-03-17T03:32:59.893010",
     "status": "completed"
    },
    "tags": []
   },
   "outputs": [
    {
     "data": {
      "text/plain": [
       "1875"
      ]
     },
     "execution_count": 40,
     "metadata": {},
     "output_type": "execute_result"
    }
   ],
   "source": [
    "data_loader = DataLoader(dataset=train_dataset,batch_size=BATCH_SIZE,shuffle=True)\n",
    "len(data_loader)"
   ]
  },
  {
   "cell_type": "code",
   "execution_count": 41,
   "id": "b5d8a2bc",
   "metadata": {
    "execution": {
     "iopub.execute_input": "2024-03-17T03:32:59.964692Z",
     "iopub.status.busy": "2024-03-17T03:32:59.963921Z",
     "iopub.status.idle": "2024-03-17T03:33:00.034129Z",
     "shell.execute_reply": "2024-03-17T03:33:00.033133Z"
    },
    "papermill": {
     "duration": 0.093854,
     "end_time": "2024-03-17T03:33:00.036301",
     "exception": false,
     "start_time": "2024-03-17T03:32:59.942447",
     "status": "completed"
    },
    "tags": []
   },
   "outputs": [
    {
     "data": {
      "text/plain": [
       "(torch.Size([32, 1, 28, 28]), torch.Size([32]))"
      ]
     },
     "execution_count": 41,
     "metadata": {},
     "output_type": "execute_result"
    }
   ],
   "source": [
    "imgs, labels = next(iter(data_loader))\n",
    "imgs.shape, labels.shape"
   ]
  },
  {
   "cell_type": "markdown",
   "id": "906f868e",
   "metadata": {
    "papermill": {
     "duration": 0.019979,
     "end_time": "2024-03-17T03:33:00.115974",
     "exception": false,
     "start_time": "2024-03-17T03:33:00.095995",
     "status": "completed"
    },
    "tags": []
   },
   "source": [
    "## Model"
   ]
  },
  {
   "cell_type": "markdown",
   "id": "717c2979",
   "metadata": {
    "papermill": {
     "duration": 0.02001,
     "end_time": "2024-03-17T03:33:00.156085",
     "exception": false,
     "start_time": "2024-03-17T03:33:00.136075",
     "status": "completed"
    },
    "tags": []
   },
   "source": [
    "### Generator"
   ]
  },
  {
   "cell_type": "code",
   "execution_count": 12,
   "id": "175f8d9b",
   "metadata": {
    "execution": {
     "iopub.execute_input": "2024-03-17T03:33:00.198317Z",
     "iopub.status.busy": "2024-03-17T03:33:00.197461Z",
     "iopub.status.idle": "2024-03-17T03:33:00.205535Z",
     "shell.execute_reply": "2024-03-17T03:33:00.204595Z"
    },
    "papermill": {
     "duration": 0.03117,
     "end_time": "2024-03-17T03:33:00.207382",
     "exception": false,
     "start_time": "2024-03-17T03:33:00.176212",
     "status": "completed"
    },
    "tags": []
   },
   "outputs": [],
   "source": [
    "class Generator(nn.Module):\n",
    "    def __init__(self):\n",
    "        super().__init__()\n",
    "        \n",
    "        self.label_emb = nn.Embedding(class_label_size, class_label_size)\n",
    "        \n",
    "        self.model = nn.Sequential(\n",
    "            nn.Linear(img_dim+class_label_size, 256),\n",
    "            nn.LeakyReLU(0.2, inplace=True),\n",
    "            nn.Linear(256, 512),\n",
    "            nn.LeakyReLU(0.2, inplace=True),\n",
    "            nn.Linear(512, 1024),\n",
    "            nn.LeakyReLU(0.2, inplace=True),\n",
    "            nn.Linear(1024, Image_size),\n",
    "            nn.Tanh()\n",
    "        )\n",
    "    \n",
    "    def forward(self, z, labels):\n",
    "        z = z.view(z.size(0), 100)\n",
    "        c = self.label_emb(labels)\n",
    "        x = torch.cat([z, c], 1)\n",
    "        out = self.model(x)\n",
    "        return out.view(x.size(0), 28, 28)"
   ]
  },
  {
   "cell_type": "markdown",
   "id": "bbf46882",
   "metadata": {
    "papermill": {
     "duration": 0.020761,
     "end_time": "2024-03-17T03:33:00.248571",
     "exception": false,
     "start_time": "2024-03-17T03:33:00.227810",
     "status": "completed"
    },
    "tags": []
   },
   "source": [
    "### Discriminator"
   ]
  },
  {
   "cell_type": "code",
   "execution_count": 11,
   "id": "993b7007",
   "metadata": {
    "execution": {
     "iopub.execute_input": "2024-03-17T03:33:00.291107Z",
     "iopub.status.busy": "2024-03-17T03:33:00.290641Z",
     "iopub.status.idle": "2024-03-17T03:33:00.298262Z",
     "shell.execute_reply": "2024-03-17T03:33:00.297401Z"
    },
    "papermill": {
     "duration": 0.030983,
     "end_time": "2024-03-17T03:33:00.300215",
     "exception": false,
     "start_time": "2024-03-17T03:33:00.269232",
     "status": "completed"
    },
    "tags": []
   },
   "outputs": [],
   "source": [
    "class Discriminator(nn.Module):\n",
    "    def __init__(self):\n",
    "        super().__init__()\n",
    "        \n",
    "        self.label_emb = nn.Embedding(class_label_size, class_label_size)\n",
    "        \n",
    "        self.model = nn.Sequential(\n",
    "            nn.Linear(Image_size+class_label_size, 1024),\n",
    "            nn.LeakyReLU(0.2, inplace=True),\n",
    "            nn.Dropout(0.3),\n",
    "            nn.Linear(1024, 512),\n",
    "            nn.LeakyReLU(0.2, inplace=True),\n",
    "            nn.Dropout(0.3),\n",
    "            nn.Linear(512, 256),\n",
    "            nn.LeakyReLU(0.2, inplace=True),\n",
    "            nn.Dropout(0.3),\n",
    "            nn.Linear(256, 1),\n",
    "            nn.Sigmoid()\n",
    "        )\n",
    "    \n",
    "    def forward(self, x, labels):\n",
    "        x = x.view(x.size(0), 784)\n",
    "        c = self.label_emb(labels)\n",
    "        x = torch.cat([x, c], 1)\n",
    "        out = self.model(x)\n",
    "        return out.squeeze()"
   ]
  },
  {
   "cell_type": "markdown",
   "id": "71582719",
   "metadata": {
    "papermill": {
     "duration": 0.020522,
     "end_time": "2024-03-17T03:33:00.342602",
     "exception": false,
     "start_time": "2024-03-17T03:33:00.322080",
     "status": "completed"
    },
    "tags": []
   },
   "source": [
    "### Set up "
   ]
  },
  {
   "cell_type": "code",
   "execution_count": 16,
   "id": "a17fb056",
   "metadata": {
    "execution": {
     "iopub.execute_input": "2024-03-17T03:33:00.384338Z",
     "iopub.status.busy": "2024-03-17T03:33:00.384029Z",
     "iopub.status.idle": "2024-03-17T03:33:00.467064Z",
     "shell.execute_reply": "2024-03-17T03:33:00.466101Z"
    },
    "papermill": {
     "duration": 0.106341,
     "end_time": "2024-03-17T03:33:00.469161",
     "exception": false,
     "start_time": "2024-03-17T03:33:00.362820",
     "status": "completed"
    },
    "tags": []
   },
   "outputs": [
    {
     "name": "stdout",
     "output_type": "stream",
     "text": [
      "Device: cuda\n"
     ]
    }
   ],
   "source": [
    "# Set device\n",
    "device = torch.device(\"cuda\" if torch.cuda.is_available() else \"cpu\")\n",
    "print(f\"Device: {device}\")"
   ]
  },
  {
   "cell_type": "markdown",
   "id": "628041ca",
   "metadata": {
    "papermill": {
     "duration": 0.020693,
     "end_time": "2024-03-17T03:33:00.511180",
     "exception": false,
     "start_time": "2024-03-17T03:33:00.490487",
     "status": "completed"
    },
    "tags": []
   },
   "source": [
    "### Hyperpameter "
   ]
  },
  {
   "cell_type": "code",
   "execution_count": 6,
   "id": "3ed2eecc",
   "metadata": {
    "execution": {
     "iopub.execute_input": "2024-03-17T03:33:00.554015Z",
     "iopub.status.busy": "2024-03-17T03:33:00.553503Z",
     "iopub.status.idle": "2024-03-17T03:33:00.557598Z",
     "shell.execute_reply": "2024-03-17T03:33:00.556745Z"
    },
    "papermill": {
     "duration": 0.02791,
     "end_time": "2024-03-17T03:33:00.559630",
     "exception": false,
     "start_time": "2024-03-17T03:33:00.531720",
     "status": "completed"
    },
    "tags": []
   },
   "outputs": [],
   "source": [
    "epochs =200\n",
    "learming_rate = 0.0001\n",
    "Times_train_discrimnizator=5"
   ]
  },
  {
   "cell_type": "markdown",
   "id": "cd5c5a08",
   "metadata": {
    "papermill": {
     "duration": 0.02043,
     "end_time": "2024-03-17T03:33:00.601014",
     "exception": false,
     "start_time": "2024-03-17T03:33:00.580584",
     "status": "completed"
    },
    "tags": []
   },
   "source": [
    "### Loss function"
   ]
  },
  {
   "cell_type": "code",
   "execution_count": 18,
   "id": "9714154f",
   "metadata": {
    "execution": {
     "iopub.execute_input": "2024-03-17T03:33:00.643752Z",
     "iopub.status.busy": "2024-03-17T03:33:00.643497Z",
     "iopub.status.idle": "2024-03-17T03:33:00.647362Z",
     "shell.execute_reply": "2024-03-17T03:33:00.646540Z"
    },
    "papermill": {
     "duration": 0.027598,
     "end_time": "2024-03-17T03:33:00.649311",
     "exception": false,
     "start_time": "2024-03-17T03:33:00.621713",
     "status": "completed"
    },
    "tags": []
   },
   "outputs": [],
   "source": [
    "# Loss function\n",
    "criterion = nn.BCELoss()"
   ]
  },
  {
   "cell_type": "markdown",
   "id": "6950631d",
   "metadata": {
    "papermill": {
     "duration": 0.02108,
     "end_time": "2024-03-17T03:33:00.692052",
     "exception": false,
     "start_time": "2024-03-17T03:33:00.670972",
     "status": "completed"
    },
    "tags": []
   },
   "source": [
    "### Initialize "
   ]
  },
  {
   "cell_type": "code",
   "execution_count": 19,
   "id": "ac37a631",
   "metadata": {
    "execution": {
     "iopub.execute_input": "2024-03-17T03:33:00.736457Z",
     "iopub.status.busy": "2024-03-17T03:33:00.736064Z",
     "iopub.status.idle": "2024-03-17T03:33:00.946300Z",
     "shell.execute_reply": "2024-03-17T03:33:00.945255Z"
    },
    "papermill": {
     "duration": 0.235275,
     "end_time": "2024-03-17T03:33:00.948720",
     "exception": false,
     "start_time": "2024-03-17T03:33:00.713445",
     "status": "completed"
    },
    "tags": []
   },
   "outputs": [],
   "source": [
    "# Initialize generator and discriminator\n",
    "generator = Generator().to(device)\n",
    "discriminator = Discriminator().to(device)\n",
    "\n",
    "# Optimizers\n",
    "optimizer_G = torch.optim.Adam(generator.parameters(), lr=learming_rate)\n",
    "optimizer_D = torch.optim.Adam(discriminator.parameters(), lr=learming_rate)"
   ]
  },
  {
   "cell_type": "markdown",
   "id": "415b2e1b",
   "metadata": {
    "papermill": {
     "duration": 0.020275,
     "end_time": "2024-03-17T03:33:00.990222",
     "exception": false,
     "start_time": "2024-03-17T03:33:00.969947",
     "status": "completed"
    },
    "tags": []
   },
   "source": [
    "### Summary model"
   ]
  },
  {
   "cell_type": "code",
   "execution_count": 20,
   "id": "fbf071ab",
   "metadata": {
    "execution": {
     "iopub.execute_input": "2024-03-17T03:33:01.032537Z",
     "iopub.status.busy": "2024-03-17T03:33:01.032218Z",
     "iopub.status.idle": "2024-03-17T03:33:01.037197Z",
     "shell.execute_reply": "2024-03-17T03:33:01.036237Z"
    },
    "papermill": {
     "duration": 0.028726,
     "end_time": "2024-03-17T03:33:01.039253",
     "exception": false,
     "start_time": "2024-03-17T03:33:01.010527",
     "status": "completed"
    },
    "tags": []
   },
   "outputs": [
    {
     "name": "stdout",
     "output_type": "stream",
     "text": [
      "Generator(\n",
      "  (label_emb): Embedding(10, 10)\n",
      "  (model): Sequential(\n",
      "    (0): Linear(in_features=110, out_features=256, bias=True)\n",
      "    (1): LeakyReLU(negative_slope=0.2, inplace=True)\n",
      "    (2): Linear(in_features=256, out_features=512, bias=True)\n",
      "    (3): LeakyReLU(negative_slope=0.2, inplace=True)\n",
      "    (4): Linear(in_features=512, out_features=1024, bias=True)\n",
      "    (5): LeakyReLU(negative_slope=0.2, inplace=True)\n",
      "    (6): Linear(in_features=1024, out_features=784, bias=True)\n",
      "    (7): Tanh()\n",
      "  )\n",
      ")\n"
     ]
    }
   ],
   "source": [
    "print(generator)"
   ]
  },
  {
   "cell_type": "code",
   "execution_count": 21,
   "id": "d524a1de",
   "metadata": {
    "execution": {
     "iopub.execute_input": "2024-03-17T03:33:01.081493Z",
     "iopub.status.busy": "2024-03-17T03:33:01.081200Z",
     "iopub.status.idle": "2024-03-17T03:33:01.085825Z",
     "shell.execute_reply": "2024-03-17T03:33:01.084987Z"
    },
    "papermill": {
     "duration": 0.027892,
     "end_time": "2024-03-17T03:33:01.087936",
     "exception": false,
     "start_time": "2024-03-17T03:33:01.060044",
     "status": "completed"
    },
    "tags": []
   },
   "outputs": [
    {
     "name": "stdout",
     "output_type": "stream",
     "text": [
      "Discriminator(\n",
      "  (label_emb): Embedding(10, 10)\n",
      "  (model): Sequential(\n",
      "    (0): Linear(in_features=794, out_features=1024, bias=True)\n",
      "    (1): LeakyReLU(negative_slope=0.2, inplace=True)\n",
      "    (2): Dropout(p=0.3, inplace=False)\n",
      "    (3): Linear(in_features=1024, out_features=512, bias=True)\n",
      "    (4): LeakyReLU(negative_slope=0.2, inplace=True)\n",
      "    (5): Dropout(p=0.3, inplace=False)\n",
      "    (6): Linear(in_features=512, out_features=256, bias=True)\n",
      "    (7): LeakyReLU(negative_slope=0.2, inplace=True)\n",
      "    (8): Dropout(p=0.3, inplace=False)\n",
      "    (9): Linear(in_features=256, out_features=1, bias=True)\n",
      "    (10): Sigmoid()\n",
      "  )\n",
      ")\n"
     ]
    }
   ],
   "source": [
    "print(discriminator)"
   ]
  },
  {
   "cell_type": "markdown",
   "id": "cfb55f5c",
   "metadata": {
    "papermill": {
     "duration": 0.020429,
     "end_time": "2024-03-17T03:33:01.129892",
     "exception": false,
     "start_time": "2024-03-17T03:33:01.109463",
     "status": "completed"
    },
    "tags": []
   },
   "source": [
    "## Training"
   ]
  },
  {
   "cell_type": "code",
   "execution_count": 22,
   "id": "bc7c06c6",
   "metadata": {
    "execution": {
     "iopub.execute_input": "2024-03-17T03:33:01.172769Z",
     "iopub.status.busy": "2024-03-17T03:33:01.172052Z",
     "iopub.status.idle": "2024-03-17T03:33:01.178590Z",
     "shell.execute_reply": "2024-03-17T03:33:01.177735Z"
    },
    "papermill": {
     "duration": 0.029989,
     "end_time": "2024-03-17T03:33:01.180642",
     "exception": false,
     "start_time": "2024-03-17T03:33:01.150653",
     "status": "completed"
    },
    "tags": []
   },
   "outputs": [],
   "source": [
    "def train_discriminator(real_images, labels):\n",
    "    optimizer_D.zero_grad()\n",
    "    # train with real images\n",
    "    real_validity = discriminator(real_images, labels)\n",
    "    real_loss = criterion(real_validity, torch.ones(BATCH_SIZE).to(device))\n",
    "    # train with fake images\n",
    "    z = torch.randn(BATCH_SIZE, 100).to(device)\n",
    "    fake_labels = torch.LongTensor(np.random.randint(0, 10, BATCH_SIZE)).to(device)\n",
    "    fake_images = generator(z, fake_labels)\n",
    "    fake_validity = discriminator(fake_images, fake_labels)\n",
    "    fake_loss = criterion(fake_validity, torch.zeros(BATCH_SIZE).to(device))\n",
    "    \n",
    "    d_loss = real_loss + fake_loss\n",
    "    d_loss.backward()\n",
    "    optimizer_D.step()\n",
    "    return d_loss.item()"
   ]
  },
  {
   "cell_type": "code",
   "execution_count": 23,
   "id": "69abdbff",
   "metadata": {
    "execution": {
     "iopub.execute_input": "2024-03-17T03:33:01.223182Z",
     "iopub.status.busy": "2024-03-17T03:33:01.222937Z",
     "iopub.status.idle": "2024-03-17T03:33:01.228496Z",
     "shell.execute_reply": "2024-03-17T03:33:01.227671Z"
    },
    "papermill": {
     "duration": 0.028888,
     "end_time": "2024-03-17T03:33:01.230342",
     "exception": false,
     "start_time": "2024-03-17T03:33:01.201454",
     "status": "completed"
    },
    "tags": []
   },
   "outputs": [],
   "source": [
    "def train_generator():\n",
    "    optimizer_G.zero_grad()\n",
    "    z =torch.randn(BATCH_SIZE, 100).to(device)\n",
    "    fake_labels = torch.LongTensor(np.random.randint(0, 10, BATCH_SIZE)).to(device)\n",
    "    fake_images = generator(z, fake_labels)\n",
    "    validity = discriminator(fake_images, fake_labels)\n",
    "    g_loss = criterion(validity, torch.ones(BATCH_SIZE).to(device))\n",
    "    g_loss.backward()\n",
    "    optimizer_G.step()\n",
    "    return g_loss.item()"
   ]
  },
  {
   "cell_type": "code",
   "execution_count": 24,
   "id": "6a9e04e5",
   "metadata": {
    "execution": {
     "iopub.execute_input": "2024-03-17T03:33:01.273145Z",
     "iopub.status.busy": "2024-03-17T03:33:01.272904Z",
     "iopub.status.idle": "2024-03-17T07:00:37.412012Z",
     "shell.execute_reply": "2024-03-17T07:00:37.410981Z"
    },
    "papermill": {
     "duration": 12456.201183,
     "end_time": "2024-03-17T07:00:37.452239",
     "exception": false,
     "start_time": "2024-03-17T03:33:01.251056",
     "status": "completed"
    },
    "tags": []
   },
   "outputs": [
    {
     "name": "stdout",
     "output_type": "stream",
     "text": [
      "EPOCH: 0 | D_Loss: 0.00264 | G_Loss: 10.55459\n",
      "EPOCH: 1 | D_Loss: 0.16806 | G_Loss: 6.62298\n",
      "EPOCH: 2 | D_Loss: 0.11766 | G_Loss: 6.39251\n",
      "EPOCH: 3 | D_Loss: 0.07573 | G_Loss: 5.06426\n",
      "EPOCH: 4 | D_Loss: 0.14884 | G_Loss: 4.23625\n",
      "EPOCH: 5 | D_Loss: 0.33836 | G_Loss: 3.43544\n",
      "EPOCH: 6 | D_Loss: 0.21231 | G_Loss: 2.93144\n",
      "EPOCH: 7 | D_Loss: 0.45368 | G_Loss: 2.06384\n",
      "EPOCH: 8 | D_Loss: 0.49861 | G_Loss: 2.91726\n",
      "EPOCH: 9 | D_Loss: 0.59238 | G_Loss: 2.08009\n",
      "EPOCH: 10 | D_Loss: 0.37601 | G_Loss: 2.46274\n",
      "EPOCH: 11 | D_Loss: 0.55882 | G_Loss: 2.51200\n",
      "EPOCH: 12 | D_Loss: 0.44040 | G_Loss: 2.12907\n",
      "EPOCH: 13 | D_Loss: 0.90888 | G_Loss: 1.72108\n",
      "EPOCH: 14 | D_Loss: 0.61892 | G_Loss: 2.10599\n",
      "EPOCH: 15 | D_Loss: 0.69786 | G_Loss: 1.73190\n",
      "EPOCH: 16 | D_Loss: 0.63025 | G_Loss: 2.48770\n",
      "EPOCH: 17 | D_Loss: 0.58024 | G_Loss: 2.26847\n",
      "EPOCH: 18 | D_Loss: 0.56172 | G_Loss: 1.79508\n",
      "EPOCH: 19 | D_Loss: 0.75819 | G_Loss: 2.04686\n",
      "EPOCH: 20 | D_Loss: 0.50591 | G_Loss: 1.84057\n",
      "EPOCH: 21 | D_Loss: 0.95697 | G_Loss: 1.61803\n",
      "EPOCH: 22 | D_Loss: 0.78134 | G_Loss: 1.85471\n",
      "EPOCH: 23 | D_Loss: 0.54824 | G_Loss: 2.00355\n",
      "EPOCH: 24 | D_Loss: 0.75709 | G_Loss: 1.60663\n",
      "EPOCH: 25 | D_Loss: 0.78898 | G_Loss: 1.70839\n",
      "EPOCH: 26 | D_Loss: 0.80341 | G_Loss: 1.60345\n",
      "EPOCH: 27 | D_Loss: 0.59492 | G_Loss: 1.53127\n",
      "EPOCH: 28 | D_Loss: 0.69155 | G_Loss: 1.21783\n",
      "EPOCH: 29 | D_Loss: 0.77331 | G_Loss: 1.83146\n",
      "EPOCH: 30 | D_Loss: 0.63996 | G_Loss: 1.62243\n",
      "EPOCH: 31 | D_Loss: 0.47404 | G_Loss: 2.01187\n",
      "EPOCH: 32 | D_Loss: 0.58638 | G_Loss: 1.65265\n",
      "EPOCH: 33 | D_Loss: 0.62442 | G_Loss: 1.77291\n",
      "EPOCH: 34 | D_Loss: 0.70335 | G_Loss: 1.49900\n",
      "EPOCH: 35 | D_Loss: 0.85360 | G_Loss: 1.59593\n",
      "EPOCH: 36 | D_Loss: 0.79016 | G_Loss: 1.91411\n",
      "EPOCH: 37 | D_Loss: 0.89544 | G_Loss: 1.56882\n",
      "EPOCH: 38 | D_Loss: 0.82710 | G_Loss: 1.91727\n",
      "EPOCH: 39 | D_Loss: 0.85379 | G_Loss: 1.58296\n",
      "EPOCH: 40 | D_Loss: 0.89918 | G_Loss: 1.65099\n",
      "EPOCH: 41 | D_Loss: 0.79520 | G_Loss: 1.78858\n",
      "EPOCH: 42 | D_Loss: 0.92687 | G_Loss: 1.26587\n",
      "EPOCH: 43 | D_Loss: 0.93911 | G_Loss: 1.55953\n",
      "EPOCH: 44 | D_Loss: 0.91128 | G_Loss: 1.32294\n",
      "EPOCH: 45 | D_Loss: 0.75799 | G_Loss: 1.49794\n",
      "EPOCH: 46 | D_Loss: 0.73929 | G_Loss: 1.66308\n",
      "EPOCH: 47 | D_Loss: 0.73768 | G_Loss: 1.74610\n",
      "EPOCH: 48 | D_Loss: 0.89239 | G_Loss: 1.52284\n",
      "EPOCH: 49 | D_Loss: 1.01542 | G_Loss: 1.31086\n",
      "EPOCH: 50 | D_Loss: 0.90315 | G_Loss: 1.97337\n",
      "EPOCH: 51 | D_Loss: 0.98677 | G_Loss: 1.25299\n",
      "EPOCH: 52 | D_Loss: 0.80179 | G_Loss: 1.37096\n",
      "EPOCH: 53 | D_Loss: 0.89265 | G_Loss: 1.63645\n",
      "EPOCH: 54 | D_Loss: 1.01372 | G_Loss: 1.55232\n",
      "EPOCH: 55 | D_Loss: 0.74122 | G_Loss: 1.50066\n",
      "EPOCH: 56 | D_Loss: 0.94918 | G_Loss: 1.42891\n",
      "EPOCH: 57 | D_Loss: 0.69350 | G_Loss: 1.24085\n",
      "EPOCH: 58 | D_Loss: 0.92986 | G_Loss: 1.47460\n",
      "EPOCH: 59 | D_Loss: 0.96386 | G_Loss: 1.31719\n",
      "EPOCH: 60 | D_Loss: 0.87766 | G_Loss: 1.95716\n",
      "EPOCH: 61 | D_Loss: 0.81004 | G_Loss: 1.71976\n",
      "EPOCH: 62 | D_Loss: 0.71193 | G_Loss: 1.78076\n",
      "EPOCH: 63 | D_Loss: 1.01688 | G_Loss: 1.20440\n",
      "EPOCH: 64 | D_Loss: 1.05607 | G_Loss: 1.33423\n",
      "EPOCH: 65 | D_Loss: 0.65762 | G_Loss: 1.46542\n",
      "EPOCH: 66 | D_Loss: 1.04237 | G_Loss: 1.37210\n",
      "EPOCH: 67 | D_Loss: 0.89023 | G_Loss: 1.65206\n",
      "EPOCH: 68 | D_Loss: 0.55059 | G_Loss: 1.98917\n",
      "EPOCH: 69 | D_Loss: 0.91333 | G_Loss: 1.43833\n",
      "EPOCH: 70 | D_Loss: 0.72301 | G_Loss: 1.41364\n",
      "EPOCH: 71 | D_Loss: 0.90008 | G_Loss: 1.41429\n",
      "EPOCH: 72 | D_Loss: 0.98935 | G_Loss: 1.71089\n",
      "EPOCH: 73 | D_Loss: 1.00710 | G_Loss: 1.19936\n",
      "EPOCH: 74 | D_Loss: 0.87225 | G_Loss: 1.49419\n",
      "EPOCH: 75 | D_Loss: 1.27872 | G_Loss: 1.60493\n",
      "EPOCH: 76 | D_Loss: 0.87055 | G_Loss: 1.57294\n",
      "EPOCH: 77 | D_Loss: 0.75576 | G_Loss: 1.31574\n",
      "EPOCH: 78 | D_Loss: 1.23970 | G_Loss: 1.31445\n",
      "EPOCH: 79 | D_Loss: 0.74177 | G_Loss: 1.58363\n",
      "EPOCH: 80 | D_Loss: 0.90779 | G_Loss: 1.53141\n",
      "EPOCH: 81 | D_Loss: 1.08581 | G_Loss: 1.38180\n",
      "EPOCH: 82 | D_Loss: 1.25413 | G_Loss: 1.37765\n",
      "EPOCH: 83 | D_Loss: 1.07430 | G_Loss: 1.44627\n",
      "EPOCH: 84 | D_Loss: 0.95487 | G_Loss: 1.50562\n",
      "EPOCH: 85 | D_Loss: 0.76605 | G_Loss: 1.34339\n",
      "EPOCH: 86 | D_Loss: 0.70854 | G_Loss: 1.10108\n",
      "EPOCH: 87 | D_Loss: 0.86869 | G_Loss: 1.36351\n",
      "EPOCH: 88 | D_Loss: 0.94216 | G_Loss: 1.46812\n",
      "EPOCH: 89 | D_Loss: 0.96330 | G_Loss: 1.47769\n",
      "EPOCH: 90 | D_Loss: 1.03921 | G_Loss: 1.19521\n",
      "EPOCH: 91 | D_Loss: 1.09484 | G_Loss: 1.34910\n",
      "EPOCH: 92 | D_Loss: 0.76827 | G_Loss: 1.62287\n",
      "EPOCH: 93 | D_Loss: 0.96624 | G_Loss: 1.45083\n",
      "EPOCH: 94 | D_Loss: 0.81095 | G_Loss: 1.38570\n",
      "EPOCH: 95 | D_Loss: 0.74686 | G_Loss: 1.42780\n",
      "EPOCH: 96 | D_Loss: 0.97755 | G_Loss: 1.48229\n",
      "EPOCH: 97 | D_Loss: 0.80926 | G_Loss: 1.51445\n",
      "EPOCH: 98 | D_Loss: 0.65690 | G_Loss: 1.59324\n",
      "EPOCH: 99 | D_Loss: 0.75253 | G_Loss: 1.41615\n",
      "EPOCH: 100 | D_Loss: 0.90288 | G_Loss: 1.46622\n",
      "EPOCH: 101 | D_Loss: 0.76768 | G_Loss: 1.50966\n",
      "EPOCH: 102 | D_Loss: 0.82932 | G_Loss: 1.36643\n",
      "EPOCH: 103 | D_Loss: 0.88035 | G_Loss: 1.17668\n",
      "EPOCH: 104 | D_Loss: 1.00670 | G_Loss: 1.78100\n",
      "EPOCH: 105 | D_Loss: 1.16592 | G_Loss: 1.35272\n",
      "EPOCH: 106 | D_Loss: 1.11991 | G_Loss: 1.47550\n",
      "EPOCH: 107 | D_Loss: 0.88386 | G_Loss: 1.31996\n",
      "EPOCH: 108 | D_Loss: 0.87809 | G_Loss: 1.42931\n",
      "EPOCH: 109 | D_Loss: 0.86321 | G_Loss: 1.25723\n",
      "EPOCH: 110 | D_Loss: 1.32713 | G_Loss: 1.51299\n",
      "EPOCH: 111 | D_Loss: 0.69024 | G_Loss: 1.44870\n",
      "EPOCH: 112 | D_Loss: 1.31731 | G_Loss: 1.56345\n",
      "EPOCH: 113 | D_Loss: 0.79189 | G_Loss: 1.20676\n",
      "EPOCH: 114 | D_Loss: 0.66992 | G_Loss: 1.56952\n",
      "EPOCH: 115 | D_Loss: 0.98047 | G_Loss: 1.38643\n",
      "EPOCH: 116 | D_Loss: 0.84197 | G_Loss: 1.46402\n",
      "EPOCH: 117 | D_Loss: 0.89096 | G_Loss: 1.20484\n",
      "EPOCH: 118 | D_Loss: 0.99970 | G_Loss: 1.43708\n",
      "EPOCH: 119 | D_Loss: 1.00067 | G_Loss: 1.45137\n",
      "EPOCH: 120 | D_Loss: 1.09768 | G_Loss: 1.44320\n",
      "EPOCH: 121 | D_Loss: 1.02847 | G_Loss: 1.28557\n",
      "EPOCH: 122 | D_Loss: 1.12807 | G_Loss: 1.21832\n",
      "EPOCH: 123 | D_Loss: 1.06432 | G_Loss: 1.65620\n",
      "EPOCH: 124 | D_Loss: 0.89746 | G_Loss: 1.87441\n",
      "EPOCH: 125 | D_Loss: 1.03013 | G_Loss: 1.32181\n",
      "EPOCH: 126 | D_Loss: 0.63260 | G_Loss: 1.42376\n",
      "EPOCH: 127 | D_Loss: 0.86813 | G_Loss: 1.23206\n",
      "EPOCH: 128 | D_Loss: 0.94183 | G_Loss: 1.43457\n",
      "EPOCH: 129 | D_Loss: 0.77468 | G_Loss: 1.48768\n",
      "EPOCH: 130 | D_Loss: 0.88434 | G_Loss: 1.54794\n",
      "EPOCH: 131 | D_Loss: 0.82187 | G_Loss: 1.54450\n",
      "EPOCH: 132 | D_Loss: 0.80584 | G_Loss: 1.25577\n",
      "EPOCH: 133 | D_Loss: 1.04138 | G_Loss: 1.56130\n",
      "EPOCH: 134 | D_Loss: 0.93126 | G_Loss: 1.18014\n",
      "EPOCH: 135 | D_Loss: 1.29079 | G_Loss: 1.51206\n",
      "EPOCH: 136 | D_Loss: 1.03651 | G_Loss: 1.42356\n",
      "EPOCH: 137 | D_Loss: 0.91390 | G_Loss: 1.53491\n",
      "EPOCH: 138 | D_Loss: 0.73485 | G_Loss: 1.62862\n",
      "EPOCH: 139 | D_Loss: 0.88077 | G_Loss: 1.76930\n",
      "EPOCH: 140 | D_Loss: 0.85611 | G_Loss: 1.68472\n",
      "EPOCH: 141 | D_Loss: 1.08979 | G_Loss: 1.30943\n",
      "EPOCH: 142 | D_Loss: 0.79637 | G_Loss: 1.75292\n",
      "EPOCH: 143 | D_Loss: 1.00272 | G_Loss: 1.39048\n",
      "EPOCH: 144 | D_Loss: 1.07716 | G_Loss: 1.39186\n",
      "EPOCH: 145 | D_Loss: 0.90543 | G_Loss: 1.30691\n",
      "EPOCH: 146 | D_Loss: 0.80495 | G_Loss: 1.62373\n",
      "EPOCH: 147 | D_Loss: 0.87029 | G_Loss: 1.50977\n",
      "EPOCH: 148 | D_Loss: 1.19877 | G_Loss: 1.24600\n",
      "EPOCH: 149 | D_Loss: 1.14805 | G_Loss: 1.53744\n",
      "EPOCH: 150 | D_Loss: 0.93865 | G_Loss: 1.43073\n",
      "EPOCH: 151 | D_Loss: 0.92191 | G_Loss: 1.52201\n",
      "EPOCH: 152 | D_Loss: 1.10992 | G_Loss: 1.31432\n",
      "EPOCH: 153 | D_Loss: 1.07265 | G_Loss: 1.41119\n",
      "EPOCH: 154 | D_Loss: 0.79961 | G_Loss: 1.43024\n",
      "EPOCH: 155 | D_Loss: 1.05408 | G_Loss: 1.37476\n",
      "EPOCH: 156 | D_Loss: 1.08227 | G_Loss: 1.55585\n",
      "EPOCH: 157 | D_Loss: 1.01703 | G_Loss: 1.26675\n",
      "EPOCH: 158 | D_Loss: 1.03890 | G_Loss: 1.58718\n",
      "EPOCH: 159 | D_Loss: 0.84235 | G_Loss: 1.40842\n",
      "EPOCH: 160 | D_Loss: 0.99031 | G_Loss: 1.34169\n",
      "EPOCH: 161 | D_Loss: 0.91013 | G_Loss: 1.52932\n",
      "EPOCH: 162 | D_Loss: 0.97053 | G_Loss: 1.38459\n",
      "EPOCH: 163 | D_Loss: 0.85619 | G_Loss: 1.72984\n",
      "EPOCH: 164 | D_Loss: 0.63296 | G_Loss: 1.51469\n",
      "EPOCH: 165 | D_Loss: 0.93088 | G_Loss: 1.67137\n",
      "EPOCH: 166 | D_Loss: 0.89643 | G_Loss: 1.25256\n",
      "EPOCH: 167 | D_Loss: 1.04859 | G_Loss: 1.11322\n",
      "EPOCH: 168 | D_Loss: 0.92341 | G_Loss: 1.41249\n",
      "EPOCH: 169 | D_Loss: 0.98931 | G_Loss: 1.24656\n",
      "EPOCH: 170 | D_Loss: 0.97389 | G_Loss: 1.57443\n",
      "EPOCH: 171 | D_Loss: 0.90319 | G_Loss: 1.05862\n",
      "EPOCH: 172 | D_Loss: 1.14426 | G_Loss: 1.19880\n",
      "EPOCH: 173 | D_Loss: 1.05064 | G_Loss: 1.68405\n",
      "EPOCH: 174 | D_Loss: 0.80591 | G_Loss: 1.28364\n",
      "EPOCH: 175 | D_Loss: 0.92977 | G_Loss: 1.38230\n",
      "EPOCH: 176 | D_Loss: 0.92537 | G_Loss: 1.40752\n",
      "EPOCH: 177 | D_Loss: 0.91769 | G_Loss: 1.52385\n",
      "EPOCH: 178 | D_Loss: 0.86154 | G_Loss: 1.32408\n",
      "EPOCH: 179 | D_Loss: 0.76418 | G_Loss: 1.50169\n",
      "EPOCH: 180 | D_Loss: 0.91796 | G_Loss: 1.28679\n",
      "EPOCH: 181 | D_Loss: 1.15231 | G_Loss: 1.25130\n",
      "EPOCH: 182 | D_Loss: 0.96187 | G_Loss: 1.44345\n",
      "EPOCH: 183 | D_Loss: 0.88873 | G_Loss: 1.39790\n",
      "EPOCH: 184 | D_Loss: 1.06310 | G_Loss: 1.36752\n",
      "EPOCH: 185 | D_Loss: 1.05934 | G_Loss: 1.35836\n",
      "EPOCH: 186 | D_Loss: 0.94685 | G_Loss: 1.33150\n",
      "EPOCH: 187 | D_Loss: 1.08488 | G_Loss: 1.50947\n",
      "EPOCH: 188 | D_Loss: 0.75928 | G_Loss: 1.48616\n",
      "EPOCH: 189 | D_Loss: 0.85139 | G_Loss: 1.24202\n",
      "EPOCH: 190 | D_Loss: 0.96026 | G_Loss: 1.40736\n",
      "EPOCH: 191 | D_Loss: 0.87461 | G_Loss: 1.51906\n",
      "EPOCH: 192 | D_Loss: 1.19214 | G_Loss: 1.50346\n",
      "EPOCH: 193 | D_Loss: 1.01222 | G_Loss: 1.79558\n",
      "EPOCH: 194 | D_Loss: 1.08738 | G_Loss: 1.40002\n",
      "EPOCH: 195 | D_Loss: 0.90373 | G_Loss: 1.43504\n",
      "EPOCH: 196 | D_Loss: 0.87386 | G_Loss: 1.26066\n",
      "EPOCH: 197 | D_Loss: 0.87627 | G_Loss: 1.31344\n",
      "EPOCH: 198 | D_Loss: 1.21120 | G_Loss: 1.37576\n",
      "EPOCH: 199 | D_Loss: 0.83015 | G_Loss: 1.16000\n"
     ]
    }
   ],
   "source": [
    "d_loss_list=[]\n",
    "g_loss_list=[]\n",
    "for epoch in range(epochs):\n",
    "    for i, (images, labels) in enumerate(data_loader):\n",
    "        real_images = images.to(device)\n",
    "        labels = labels.to(device)\n",
    "        generator.train()\n",
    "        d_loss = 0\n",
    "        for _ in range(Times_train_discrimnizator):\n",
    "            d_loss = train_discriminator(real_images, labels)\n",
    "\n",
    "        g_loss = train_generator()\n",
    "\n",
    "\n",
    "    print(f\"EPOCH: {epoch} | D_Loss: {d_loss:.5f} | G_Loss: {g_loss:.5f}\")\n",
    "    d_loss_list.append(d_loss)\n",
    "    g_loss_list.append(g_loss)\n"
   ]
  },
  {
   "cell_type": "markdown",
   "id": "c2f8fe1e",
   "metadata": {
    "papermill": {
     "duration": 0.035981,
     "end_time": "2024-03-17T07:00:37.524333",
     "exception": false,
     "start_time": "2024-03-17T07:00:37.488352",
     "status": "completed"
    },
    "tags": []
   },
   "source": [
    "### Plot loss"
   ]
  },
  {
   "cell_type": "code",
   "execution_count": 25,
   "id": "66340306",
   "metadata": {
    "execution": {
     "iopub.execute_input": "2024-03-17T07:00:37.599017Z",
     "iopub.status.busy": "2024-03-17T07:00:37.598194Z",
     "iopub.status.idle": "2024-03-17T07:00:37.945390Z",
     "shell.execute_reply": "2024-03-17T07:00:37.944445Z"
    },
    "papermill": {
     "duration": 0.387277,
     "end_time": "2024-03-17T07:00:37.947809",
     "exception": false,
     "start_time": "2024-03-17T07:00:37.560532",
     "status": "completed"
    },
    "tags": []
   },
   "outputs": [
    {
     "data": {
      "image/png": "[encoded data removed]",
      "text/plain": [
       "<Figure size 1000x800 with 1 Axes>"
      ]
     },
     "metadata": {},
     "output_type": "display_data"
    }
   ],
   "source": [
    "plt.figure(figsize=(10, 8))\n",
    "plt.plot(d_loss_list, label='Discriminator Loss', marker='o')\n",
    "plt.plot(g_loss_list, label='Generator Loss', marker='s')\n",
    "\n",
    "plt.xlabel('Epochs')\n",
    "plt.ylabel('Loss')\n",
    "plt.title('Discriminator and Generator Losses')\n",
    "plt.grid(True)\n",
    "plt.legend()\n",
    "\n",
    "# Show the plot\n",
    "plt.show()"
   ]
  },
  {
   "cell_type": "markdown",
   "id": "5cb02927",
   "metadata": {
    "papermill": {
     "duration": 0.036956,
     "end_time": "2024-03-17T07:00:38.024163",
     "exception": false,
     "start_time": "2024-03-17T07:00:37.987207",
     "status": "completed"
    },
    "tags": []
   },
   "source": [
    "## Save the model"
   ]
  },
  {
   "cell_type": "code",
   "execution_count": 26,
   "id": "15fc2a5d",
   "metadata": {
    "execution": {
     "iopub.execute_input": "2024-03-17T07:00:38.099102Z",
     "iopub.status.busy": "2024-03-17T07:00:38.098417Z",
     "iopub.status.idle": "2024-03-17T07:00:38.132477Z",
     "shell.execute_reply": "2024-03-17T07:00:38.131684Z"
    },
    "papermill": {
     "duration": 0.073965,
     "end_time": "2024-03-17T07:00:38.134759",
     "exception": false,
     "start_time": "2024-03-17T07:00:38.060794",
     "status": "completed"
    },
    "tags": []
   },
   "outputs": [],
   "source": [
    "\n",
    "model_save_path = \"./Output/\"\n",
    "model_name = f\"cgan_fashion_mnist_e{epochs}.pt\"\n",
    "torch.save({\"generator_state_dict\": generator.state_dict(),\"discriminator_state_dict\": discriminator.state_dict()},os.path.join(model_save_path, model_name))"
   ]
  },
  {
   "cell_type": "markdown",
   "id": "6fa3d9c8",
   "metadata": {
    "papermill": {
     "duration": 0.036047,
     "end_time": "2024-03-17T07:00:38.207848",
     "exception": false,
     "start_time": "2024-03-17T07:00:38.171801",
     "status": "completed"
    },
    "tags": []
   },
   "source": [
    "## Load the model"
   ]
  },
  {
   "cell_type": "code",
   "execution_count": 8,
   "id": "3c8d7bb4",
   "metadata": {
    "execution": {
     "iopub.execute_input": "2024-03-17T07:00:38.282401Z",
     "iopub.status.busy": "2024-03-17T07:00:38.281603Z",
     "iopub.status.idle": "2024-03-17T07:00:38.295656Z",
     "shell.execute_reply": "2024-03-17T07:00:38.294772Z"
    },
    "papermill": {
     "duration": 0.053376,
     "end_time": "2024-03-17T07:00:38.297668",
     "exception": false,
     "start_time": "2024-03-17T07:00:38.244292",
     "status": "completed"
    },
    "tags": []
   },
   "outputs": [],
   "source": [
    "model_save_path = \"./Output/\"\n",
    "model_trained = torch.load(os.path.join(model_save_path, \"cgan_fashion_mnist_e200.pt\"), map_location='cpu')"
   ]
  },
  {
   "cell_type": "code",
   "execution_count": 60,
   "id": "4b699afc",
   "metadata": {
    "execution": {
     "iopub.execute_input": "2024-03-17T07:00:38.372459Z",
     "iopub.status.busy": "2024-03-17T07:00:38.372122Z",
     "iopub.status.idle": "2024-03-17T07:00:38.378399Z",
     "shell.execute_reply": "2024-03-17T07:00:38.377448Z"
    },
    "papermill": {
     "duration": 0.046238,
     "end_time": "2024-03-17T07:00:38.380451",
     "exception": false,
     "start_time": "2024-03-17T07:00:38.334213",
     "status": "completed"
    },
    "tags": []
   },
   "outputs": [
    {
     "data": {
      "text/plain": [
       "'cpu'"
      ]
     },
     "execution_count": 60,
     "metadata": {},
     "output_type": "execute_result"
    }
   ],
   "source": [
    "device = 'cuda' if torch.cuda.is_available() else 'cpu'\n",
    "device"
   ]
  },
  {
   "cell_type": "code",
   "execution_count": 61,
   "id": "2fcaa6b2",
   "metadata": {
    "execution": {
     "iopub.execute_input": "2024-03-17T07:00:38.456832Z",
     "iopub.status.busy": "2024-03-17T07:00:38.456535Z",
     "iopub.status.idle": "2024-03-17T07:00:38.478532Z",
     "shell.execute_reply": "2024-03-17T07:00:38.477664Z"
    },
    "papermill": {
     "duration": 0.061364,
     "end_time": "2024-03-17T07:00:38.480405",
     "exception": false,
     "start_time": "2024-03-17T07:00:38.419041",
     "status": "completed"
    },
    "tags": []
   },
   "outputs": [
    {
     "data": {
      "text/plain": [
       "<All keys matched successfully>"
      ]
     },
     "execution_count": 61,
     "metadata": {},
     "output_type": "execute_result"
    }
   ],
   "source": [
    "generator_loaded = Generator()\n",
    "generator_loaded.load_state_dict(model_trained[\"generator_state_dict\"])"
   ]
  },
  {
   "cell_type": "code",
   "execution_count": 62,
   "id": "b139a6a4",
   "metadata": {
    "execution": {
     "iopub.execute_input": "2024-03-17T07:00:38.556699Z",
     "iopub.status.busy": "2024-03-17T07:00:38.556383Z",
     "iopub.status.idle": "2024-03-17T07:00:38.561047Z",
     "shell.execute_reply": "2024-03-17T07:00:38.560312Z"
    },
    "papermill": {
     "duration": 0.045144,
     "end_time": "2024-03-17T07:00:38.562897",
     "exception": false,
     "start_time": "2024-03-17T07:00:38.517753",
     "status": "completed"
    },
    "tags": []
   },
   "outputs": [],
   "source": [
    "generator_loaded = generator_loaded.to('cpu');"
   ]
  },
  {
   "cell_type": "markdown",
   "id": "ea19f63f",
   "metadata": {
    "papermill": {
     "duration": 0.037028,
     "end_time": "2024-03-17T07:00:38.637732",
     "exception": false,
     "start_time": "2024-03-17T07:00:38.600704",
     "status": "completed"
    },
    "tags": []
   },
   "source": [
    "## Test"
   ]
  },
  {
   "cell_type": "code",
   "execution_count": 63,
   "id": "950a4ac7",
   "metadata": {
    "execution": {
     "iopub.execute_input": "2024-03-17T07:00:38.712939Z",
     "iopub.status.busy": "2024-03-17T07:00:38.712612Z",
     "iopub.status.idle": "2024-03-17T07:00:38.716999Z",
     "shell.execute_reply": "2024-03-17T07:00:38.716153Z"
    },
    "papermill": {
     "duration": 0.044475,
     "end_time": "2024-03-17T07:00:38.719079",
     "exception": false,
     "start_time": "2024-03-17T07:00:38.674604",
     "status": "completed"
    },
    "tags": []
   },
   "outputs": [],
   "source": [
    "torch.manual_seed(42)\n",
    "torch.cuda.manual_seed(42)"
   ]
  },
  {
   "cell_type": "code",
   "execution_count": 64,
   "id": "06531325",
   "metadata": {
    "execution": {
     "iopub.execute_input": "2024-03-17T07:00:38.795270Z",
     "iopub.status.busy": "2024-03-17T07:00:38.794527Z",
     "iopub.status.idle": "2024-03-17T07:00:38.800482Z",
     "shell.execute_reply": "2024-03-17T07:00:38.799619Z"
    },
    "papermill": {
     "duration": 0.046339,
     "end_time": "2024-03-17T07:00:38.802598",
     "exception": false,
     "start_time": "2024-03-17T07:00:38.756259",
     "status": "completed"
    },
    "tags": []
   },
   "outputs": [],
   "source": [
    "noise_test = torch.randn(img_dim)\n",
    "noise_test.unsqueeze_(dim=0)\n",
    "label_list=[]\n",
    "for x in range(0,10):\n",
    "    label_list.append(torch.LongTensor([x]))\n"
   ]
  },
  {
   "cell_type": "code",
   "execution_count": 65,
   "id": "00ce9473",
   "metadata": {
    "execution": {
     "iopub.execute_input": "2024-03-17T07:00:38.879145Z",
     "iopub.status.busy": "2024-03-17T07:00:38.878857Z",
     "iopub.status.idle": "2024-03-17T07:00:38.972705Z",
     "shell.execute_reply": "2024-03-17T07:00:38.971608Z"
    },
    "papermill": {
     "duration": 0.134257,
     "end_time": "2024-03-17T07:00:38.974783",
     "exception": false,
     "start_time": "2024-03-17T07:00:38.840526",
     "status": "completed"
    },
    "tags": []
   },
   "outputs": [],
   "source": [
    "generator_loaded.eval()\n",
    "gan_img_test_list=[]\n",
    "for x in range(0,10):\n",
    "    with torch.inference_mode():\n",
    "        gan_img_test = generator_loaded(noise_test,label_list[x])\n",
    "        gan_img_test = gan_img_test.squeeze().reshape(28, 28).to('cpu').detach().numpy()\n",
    "        gan_img_test_list.append(gan_img_test)\n"
   ]
  },
  {
   "cell_type": "code",
   "execution_count": 84,
   "id": "bbb6462c",
   "metadata": {
    "execution": {
     "iopub.execute_input": "2024-03-17T07:00:39.144439Z",
     "iopub.status.busy": "2024-03-17T07:00:39.144078Z",
     "iopub.status.idle": "2024-03-17T07:00:39.396232Z",
     "shell.execute_reply": "2024-03-17T07:00:39.395409Z"
    },
    "papermill": {
     "duration": 0.294957,
     "end_time": "2024-03-17T07:00:39.398244",
     "exception": false,
     "start_time": "2024-03-17T07:00:39.103287",
     "status": "completed"
    },
    "tags": []
   },
   "outputs": [
    {
     "data": {
      "image/png": "[encoded data removed]",
      "text/plain": [
       "<Figure size 1600x1600 with 10 Axes>"
      ]
     },
     "metadata": {},
     "output_type": "display_data"
    }
   ],
   "source": [
    "# list_class_names=['T-shirt/top', 'Trouser', 'Pullover', 'Dress', 'Coat', 'Sandal', 'Shirt', 'Sneaker', 'Bag', 'Ankle boot']\n",
    "f=plt.figure(figsize=(16,16))\n",
    "for x in range(0,10):\n",
    "    f.add_subplot(1, 10, x + 1)\n",
    "    plt.imshow(gan_img_test_list[x], cmap='gray')\n",
    "    plt.title(f\"{class_names[x]}\")\n",
    "plt.show()"
   ]
  }
 ],
 "metadata": {
  "kaggle": {
   "accelerator": "nvidiaTeslaT4",
   "dataSources": [],
   "dockerImageVersionId": 30665,
   "isGpuEnabled": true,
   "isInternetEnabled": true,
   "language": "python",
   "sourceType": "notebook"
  },
  "kernelspec": {
   "display_name": "Python 3",
   "language": "python",
   "name": "python3"
  },
  "language_info": {
   "codemirror_mode": {
    "name": "ipython",
    "version": 3
   },
   "file_extension": ".py",
   "mimetype": "text/x-python",
   "name": "python",
   "nbconvert_exporter": "python",
   "pygments_lexer": "ipython3",
   "version": "3.11.5"
  },
  "papermill": {
   "default_parameters": {},
   "duration": 12490.55724,
   "end_time": "2024-03-17T07:00:41.973439",
   "environment_variables": {},
   "exception": null,
   "input_path": "__notebook__.ipynb",
   "output_path": "__notebook__.ipynb",
   "parameters": {},
   "start_time": "2024-03-17T03:32:31.416199",
   "version": "2.5.0"
  }
 },
 "nbformat": 4,
 "nbformat_minor": 5
}
